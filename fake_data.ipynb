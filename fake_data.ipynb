{
 "cells": [
  {
   "cell_type": "code",
   "execution_count": 1,
   "metadata": {},
   "outputs": [],
   "source": [
    "import pandas as pd\n",
    "import numpy as np\n",
    "from faker import Faker\n",
    "from collections import defaultdict\n",
    "from sqlalchemy import create_engine\n",
    "import datetime\n",
    "import random\n",
    "import re\n"
   ]
  },
  {
   "cell_type": "code",
   "execution_count": 2,
   "metadata": {},
   "outputs": [],
   "source": [
    "from numpy import integer\n",
    "\n",
    "\n",
    "fake=Faker()\n",
    "\n",
    "fake_data = defaultdict(list)\n",
    "\n",
    "row_number=int(input(\"Please write the number you wish to see the row size, DON'T CRASH ME!\"))\n",
    "\n"
   ]
  },
  {
   "cell_type": "markdown",
   "metadata": {},
   "source": [
    "#Functions"
   ]
  },
  {
   "cell_type": "markdown",
   "metadata": {},
   "source": [
    "#Fake data is generated."
   ]
  },
  {
   "cell_type": "code",
   "execution_count": 3,
   "metadata": {},
   "outputs": [],
   "source": [
    "\n",
    "for i in range(row_number):\n",
    "    fake_data['from_customer'].append(fake.bothify(text='FRM-1#####'))\n",
    "    fake_data['amount'].append(fake.pyfloat(right_digits=2,positive=True,min_value=2.00,max_value=10000.00))\n",
    "    fake_data['timestamp'].append(fake.date_time_ad(start_datetime=datetime.datetime(2022,9,14)))\n",
    "    "
   ]
  },
  {
   "cell_type": "code",
   "execution_count": 4,
   "metadata": {},
   "outputs": [],
   "source": [
    "#To_customer feauture\n",
    "templist=[]\n",
    "#check the key value from list_converted defaultdict\n",
    "for k,v in list(fake_data.items()):\n",
    "    if k=='from_customer':\n",
    "        #Change FRM tag to TO tag\n",
    "        for item in v:\n",
    "                splited_item=item.split('-')\n",
    "                splited_item[0]='TO'\n",
    "                concat_item='-'.join(splited_item)\n",
    "                templist.append(concat_item)#item\n",
    "#To_customer yapısında yer değişikliği random\n",
    "random.shuffle(templist)\n",
    "fake_data['to_customer']=templist"
   ]
  },
  {
   "cell_type": "code",
   "execution_count": 5,
   "metadata": {},
   "outputs": [],
   "source": [
    "df=pd.DataFrame(fake_data)\n",
    "df=df[['from_customer','to_customer','amount','timestamp']]\n",
    "#dropped_df=df.drop(['amount','timestamp'], axis=1)"
   ]
  },
  {
   "cell_type": "code",
   "execution_count": 6,
   "metadata": {},
   "outputs": [],
   "source": [
    "try:\n",
    "    equal=any(df['from_customer'].str.extract('(\\d+)')==df['to_customer'].str.extract('(\\d+)'))\n",
    "except:\n",
    "    print(\"Same value error, please check your rows that may be have a same value\")"
   ]
  },
  {
   "cell_type": "code",
   "execution_count": 7,
   "metadata": {},
   "outputs": [
    {
     "data": {
      "text/html": [
       "<div>\n",
       "<style scoped>\n",
       "    .dataframe tbody tr th:only-of-type {\n",
       "        vertical-align: middle;\n",
       "    }\n",
       "\n",
       "    .dataframe tbody tr th {\n",
       "        vertical-align: top;\n",
       "    }\n",
       "\n",
       "    .dataframe thead th {\n",
       "        text-align: right;\n",
       "    }\n",
       "</style>\n",
       "<table border=\"1\" class=\"dataframe\">\n",
       "  <thead>\n",
       "    <tr style=\"text-align: right;\">\n",
       "      <th></th>\n",
       "      <th>from_customer</th>\n",
       "      <th>to_customer</th>\n",
       "      <th>amount</th>\n",
       "      <th>timestamp</th>\n",
       "    </tr>\n",
       "  </thead>\n",
       "  <tbody>\n",
       "    <tr>\n",
       "      <th>0</th>\n",
       "      <td>FRM-171303</td>\n",
       "      <td>TO-130287</td>\n",
       "      <td>4828.35</td>\n",
       "      <td>2022-09-21 04:24:03</td>\n",
       "    </tr>\n",
       "    <tr>\n",
       "      <th>1</th>\n",
       "      <td>FRM-138532</td>\n",
       "      <td>TO-140085</td>\n",
       "      <td>2161.86</td>\n",
       "      <td>2022-10-15 02:23:11</td>\n",
       "    </tr>\n",
       "    <tr>\n",
       "      <th>2</th>\n",
       "      <td>FRM-153052</td>\n",
       "      <td>TO-147409</td>\n",
       "      <td>935.97</td>\n",
       "      <td>2022-10-06 13:02:49</td>\n",
       "    </tr>\n",
       "    <tr>\n",
       "      <th>3</th>\n",
       "      <td>FRM-130426</td>\n",
       "      <td>TO-155466</td>\n",
       "      <td>704.91</td>\n",
       "      <td>2022-10-12 07:18:16</td>\n",
       "    </tr>\n",
       "    <tr>\n",
       "      <th>4</th>\n",
       "      <td>FRM-106691</td>\n",
       "      <td>TO-130426</td>\n",
       "      <td>9879.15</td>\n",
       "      <td>2022-09-27 11:54:07</td>\n",
       "    </tr>\n",
       "  </tbody>\n",
       "</table>\n",
       "</div>"
      ],
      "text/plain": [
       "  from_customer to_customer   amount           timestamp\n",
       "0    FRM-171303   TO-130287  4828.35 2022-09-21 04:24:03\n",
       "1    FRM-138532   TO-140085  2161.86 2022-10-15 02:23:11\n",
       "2    FRM-153052   TO-147409   935.97 2022-10-06 13:02:49\n",
       "3    FRM-130426   TO-155466   704.91 2022-10-12 07:18:16\n",
       "4    FRM-106691   TO-130426  9879.15 2022-09-27 11:54:07"
      ]
     },
     "execution_count": 7,
     "metadata": {},
     "output_type": "execute_result"
    }
   ],
   "source": [
    "#type(df_manipulation['from_customer'].str.extract('(\\d+)')==df_manipulation['to_customer'].str.extract('(\\d+)'))\n",
    "#GET INDEX NUMBER:\n",
    "    #df_manipulation[df['from_customer']=='FRM-757739'].index.item() \n",
    "#Seperate the numbers:\n",
    "    #df_manipulation['from_customer'].str.extract('(\\d+)'))\n",
    "    #df_manipulation['to_customer'].str.extract('(\\d+)'))\n",
    "df.head()"
   ]
  },
  {
   "cell_type": "code",
   "execution_count": 8,
   "metadata": {},
   "outputs": [],
   "source": [
    "from_or_to={'from_customer':'from_customer',\n",
    "                    'to_customer':'to_customer'}\n",
    "for i in range(len(from_or_to)):\n",
    "            list(from_or_to.keys())[i]=df[list(from_or_to.keys())[i]].to_list()\n",
    "            "
   ]
  },
  {
   "cell_type": "code",
   "execution_count": 9,
   "metadata": {},
   "outputs": [],
   "source": [
    "def pick_random_elements(dataFrame):\n",
    "        from_or_to=['from_customer','to_customer']\n",
    "        for i in range(len(dataFrame)):\n",
    "                randomized_customer=dataFrame.loc[:,random.choice(from_or_to)].iat[random.randint(5,len(dataFrame)-1)]\n",
    "                tweaked_customer_list.append(randomized_customer)\n",
    "                #If list is not unique start from beginning\n",
    "                \n",
    "                if not np.unique(tweaked_customer_list).size == len(tweaked_customer_list):\n",
    "                        tweaked_customer_list.clear()\n",
    "        if not tweaked_customer_list:\n",
    "            pick_random_elements(dataFrame)\n",
    "\n",
    "\n",
    "            \n",
    "def splitString(str):\n",
    "    alpha = \"\"\n",
    "    num = \"\"\n",
    "    special = \"\"\n",
    "    for i in range(len(str)):\n",
    "        if (str[i].isdigit()):\n",
    "            num = num+ str[i]\n",
    "        elif((str[i] >= 'A' and str[i] <= 'Z') or\n",
    "             (str[i] >= 'a' and str[i] <= 'z')):\n",
    "            alpha += str[i]\n",
    "        else:\n",
    "            special += str[i]\n",
    " \n",
    "    return(num)\n",
    "\n",
    "\n",
    "def sum_of_numbers(number):\n",
    "    if number>9:\n",
    "        ones=number%10\n",
    "        tens=(number-ones)/10\n",
    "        number=ones+tens\n",
    "    return int(number)\n",
    "\n",
    "def split_elements(customer_list):\n",
    "    for customer in customer_list:\n",
    "        if len(customer.split('-')[0])<=2:\n",
    "            receiver_list.append(customer)\n",
    "        else:\n",
    "            giver_list.append(customer)\n",
    "\n",
    "receiver_list=[]\n",
    "giver_list=[]\n",
    "tweaked_customer_list=[]"
   ]
  },
  {
   "cell_type": "code",
   "execution_count": 10,
   "metadata": {},
   "outputs": [
    {
     "name": "stdout",
     "output_type": "stream",
     "text": [
      "['FRM-147409', 'TO-146889', 'TO-153052', 'TO-159307', 'FRM-109712', 'FRM-130287', 'FRM-117859', 'TO-183261']\n"
     ]
    }
   ],
   "source": [
    "pick_random_elements(df)\n",
    "print(tweaked_customer_list)\n",
    "split_elements(tweaked_customer_list)"
   ]
  },
  {
   "cell_type": "code",
   "execution_count": 11,
   "metadata": {},
   "outputs": [
    {
     "data": {
      "text/plain": [
       "['FRM-147409',\n",
       " 'FRM-109712',\n",
       " 'FRM-130287',\n",
       " 'FRM-117859',\n",
       " 'FRM-117859',\n",
       " 'FRM-117859',\n",
       " 'FRM-109712',\n",
       " 'FRM-109712',\n",
       " 'FRM-117859',\n",
       " 'FRM-130287',\n",
       " 'FRM-130287']"
      ]
     },
     "execution_count": 11,
     "metadata": {},
     "output_type": "execute_result"
    }
   ],
   "source": [
    "df.copy=df\n",
    "df.copy.head()\n",
    "for i in range(len(giver_list)+3):\n",
    "    giver_list.append(giver_list[random.randint(0,len(giver_list))-1])\n",
    "giver_list"
   ]
  },
  {
   "cell_type": "code",
   "execution_count": 12,
   "metadata": {},
   "outputs": [],
   "source": [
    "#Replace random elements in from_customer\n",
    "def random_relationship(getlist):\n",
    "    i=1\n",
    "    for element in getlist:\n",
    "            df.copy['from_customer'] = df['from_customer'].replace([df.loc[i+1, 'from_customer'],element])\n",
    "            i+=1\n",
    "            #random.randint(i,len(df))"
   ]
  },
  {
   "cell_type": "code",
   "execution_count": 13,
   "metadata": {},
   "outputs": [
    {
     "data": {
      "text/plain": [
       "['FRM-147409',\n",
       " 'FRM-109712',\n",
       " 'FRM-130287',\n",
       " 'FRM-117859',\n",
       " 'FRM-117859',\n",
       " 'FRM-117859',\n",
       " 'FRM-109712',\n",
       " 'FRM-109712',\n",
       " 'FRM-117859',\n",
       " 'FRM-130287',\n",
       " 'FRM-130287']"
      ]
     },
     "execution_count": 13,
     "metadata": {},
     "output_type": "execute_result"
    }
   ],
   "source": [
    "random_relationship(giver_list)\n",
    "giver_list"
   ]
  },
  {
   "cell_type": "code",
   "execution_count": 14,
   "metadata": {},
   "outputs": [
    {
     "name": "stdout",
     "output_type": "stream",
     "text": [
      "from_customer\n",
      "103175     1\n",
      "105610     1\n",
      "107918     1\n",
      "118962     1\n",
      "125918     1\n",
      "127912     1\n",
      "131870     1\n",
      "132784     1\n",
      "133074     1\n",
      "135725     1\n",
      "136115     1\n",
      "137135     1\n",
      "138532    12\n",
      "141707     1\n",
      "143238     2\n",
      "146889     2\n",
      "147060     1\n",
      "148713     1\n",
      "151270     1\n",
      "153379     1\n",
      "155466     1\n",
      "159307     1\n",
      "160800     1\n",
      "162778     1\n",
      "163464     1\n",
      "166611     2\n",
      "167213     1\n",
      "169296     1\n",
      "171303     1\n",
      "174190     1\n",
      "175675     1\n",
      "180849     1\n",
      "181806     1\n",
      "185828     2\n",
      "188958     1\n",
      "dtype: int64\n"
     ]
    }
   ],
   "source": [
    "#Get the duplicateds\n",
    "df.copy['from_customer']=df.copy['from_customer'].str.extract('(\\d+)')\n",
    "df.copy['to_customer']=df.copy['to_customer'].str.extract('(\\d+)')\n",
    "dups_all = df.copy.pivot_table(columns=['from_customer'], aggfunc='size')\n",
    "dups=[]\n",
    "a=0\n",
    "for i in dups_all.values:\n",
    "    if i>1:\n",
    "        dups.append(dups_all.index[a])\n",
    "    a+=1\n",
    "print(dups_all)\n"
   ]
  },
  {
   "cell_type": "code",
   "execution_count": 15,
   "metadata": {},
   "outputs": [],
   "source": [
    "df_dups=df[df.copy.from_customer.isin(dups)==True]\n",
    "df_final=df[df.copy.from_customer.isin(dups)==False]"
   ]
  },
  {
   "cell_type": "code",
   "execution_count": 16,
   "metadata": {},
   "outputs": [
    {
     "name": "stdout",
     "output_type": "stream",
     "text": [
      "   from_customer to_customer   amount           timestamp\n",
      "1         138532      140085  2161.86 2022-10-15 02:23:11\n",
      "2         138532      147409   935.97 2022-10-06 13:02:49\n",
      "3         138532      155466   704.91 2022-10-12 07:18:16\n",
      "4         138532      130426  9879.15 2022-09-27 11:54:07\n",
      "5         138532      137135  8133.30 2022-10-12 09:21:11\n",
      "6         138532      159307  3071.31 2022-09-27 17:28:20\n",
      "7         138532      196564  1024.31 2022-09-28 22:37:48\n",
      "8         138532      107918  2307.10 2022-09-24 14:18:06\n",
      "9         138532      138532  5308.29 2022-09-15 22:53:33\n",
      "10        138532      167764  8391.31 2022-10-11 03:31:00\n",
      "11        138532      109712  9721.87 2022-09-18 04:37:15\n",
      "12        138532      166611  1137.10 2022-10-11 10:34:02\n",
      "14        185828      135725   924.14 2022-10-06 09:39:26\n",
      "15        185828      125918  3311.37 2022-10-18 14:31:01\n",
      "25        166611      185828  4829.50 2022-10-08 12:35:47\n",
      "26        166611      153052  8698.67 2022-09-23 13:02:03\n",
      "39        146889      103175  3463.17 2022-10-02 10:39:10\n",
      "40        146889      136115   377.38 2022-10-01 23:52:16\n",
      "43        143238      180849  9658.16 2022-09-30 20:51:29\n",
      "44        143238      106691  9677.31 2022-09-30 15:46:49\n"
     ]
    }
   ],
   "source": [
    "print(df_dups)"
   ]
  },
  {
   "cell_type": "markdown",
   "metadata": {},
   "source": [
    "#Neo4j"
   ]
  },
  {
   "cell_type": "code",
   "execution_count": 17,
   "metadata": {},
   "outputs": [],
   "source": [
    "from neo4j import GraphDatabase"
   ]
  },
  {
   "cell_type": "code",
   "execution_count": 18,
   "metadata": {},
   "outputs": [
    {
     "name": "stdout",
     "output_type": "stream",
     "text": [
      "['138532', '143238', '146889', '166611', '185828']\n"
     ]
    }
   ],
   "source": [
    "transaction_info=df.values.tolist()\n",
    "print(dups)"
   ]
  },
  {
   "cell_type": "code",
   "execution_count": 19,
   "metadata": {},
   "outputs": [
    {
     "name": "stderr",
     "output_type": "stream",
     "text": [
      "/tmp/ipykernel_69777/3017973299.py:19: DeprecationWarning: write_transaction has been renamed to execute_write\n",
      "  session.write_transaction(create_customer, str(i))\n",
      "/tmp/ipykernel_69777/3017973299.py:25: DeprecationWarning: write_transaction has been renamed to execute_write\n",
      "  session.write_transaction(create_customer, str(i[0]))\n",
      "/tmp/ipykernel_69777/3017973299.py:27: DeprecationWarning: write_transaction has been renamed to execute_write\n",
      "  session.write_transaction(create_transaction, str(i[0]), str(i[1]),str(i[2]),str(i[3]))\n",
      "/tmp/ipykernel_69777/3017973299.py:23: DeprecationWarning: write_transaction has been renamed to execute_write\n",
      "  session.write_transaction(create_transaction, str(i[0]), str(i[1]),str(i[2]),str(i[3]))\n"
     ]
    }
   ],
   "source": [
    "uri = \"neo4j://localhost:7687\"\n",
    "driver = GraphDatabase.driver(uri, auth=(\"neo4j\", \"test\"))\n",
    "\n",
    "def create_customer(tx, from_customer):\n",
    "    tx.run(\"CREATE (c1:Customer {name: $name, customer_id: $id})\",name='customer', id=from_customer)\n",
    "\n",
    "#def create_customer2(tx, to_customer):\n",
    " #   tx.run(\"CREATE (c2:Customer2 {name: $name, customer_id: $id})\",name='customer2', id=to_customer)\n",
    "\n",
    "def create_transaction(tx, from_customer, to_customer,amount,timestamp):\n",
    "    tx.run(\"MATCH (c1:Customer) WHERE c1.customer_id = $id \"\n",
    "           \"CREATE (c1)-[:Transaction{amount:$amount,time:$timestamp}]->(c2:Customer {customer_id: $otherid})\",\n",
    "           id=from_customer, otherid=to_customer,amount=amount,timestamp=timestamp)\n",
    "\n",
    "with driver.session() as session:\n",
    "\n",
    "    #Create all nodes Customer 1 and Customer 2 create relationship where there is only one relationship\n",
    "    for i in dups:\n",
    "            session.write_transaction(create_customer, str(i))\n",
    "    for i in transaction_info:\n",
    "        if str(i[0]) in dups:\n",
    "            #session.write_transaction(create_customer2, str(i[1]))\n",
    "            session.write_transaction(create_transaction, str(i[0]), str(i[1]),str(i[2]),str(i[3]))\n",
    "            continue\n",
    "        session.write_transaction(create_customer, str(i[0]))\n",
    "        #session.write_transaction(create_customer2, str(i[1]))\n",
    "        session.write_transaction(create_transaction, str(i[0]), str(i[1]),str(i[2]),str(i[3]))\n",
    "    \n",
    "    \n",
    "\n",
    "    \n",
    "            \n",
    "        #session.write_transaction(create_transaction, str(i[0]), str(i[1]))\n",
    "        #session.write_transaction(create_transaction, str(i[0]), \"Carl\")\n",
    "\n",
    "driver.close()"
   ]
  }
 ],
 "metadata": {
  "kernelspec": {
   "display_name": "Python 3.10.6 ('env': venv)",
   "language": "python",
   "name": "python3"
  },
  "language_info": {
   "codemirror_mode": {
    "name": "ipython",
    "version": 3
   },
   "file_extension": ".py",
   "mimetype": "text/x-python",
   "name": "python",
   "nbconvert_exporter": "python",
   "pygments_lexer": "ipython3",
   "version": "3.10.6"
  },
  "orig_nbformat": 4,
  "vscode": {
   "interpreter": {
    "hash": "874a6de952d544f4cb877a8d13eabeae5b2291f673584fafdaac9408f5f0cba8"
   }
  }
 },
 "nbformat": 4,
 "nbformat_minor": 2
}
