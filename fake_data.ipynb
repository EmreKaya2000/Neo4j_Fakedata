{
 "cells": [
  {
   "cell_type": "code",
   "execution_count": 1,
   "metadata": {},
   "outputs": [],
   "source": [
    "import pandas as pd\n",
    "import numpy as np\n",
    "from faker import Faker\n",
    "from collections import defaultdict\n",
    "from sqlalchemy import create_engine\n",
    "import datetime\n",
    "import random\n",
    "import re\n"
   ]
  },
  {
   "cell_type": "code",
   "execution_count": 2,
   "metadata": {},
   "outputs": [],
   "source": [
    "from numpy import integer\n",
    "\n",
    "\n",
    "fake=Faker()\n",
    "\n",
    "fake_data = defaultdict(list)\n",
    "\n",
    "row_number=int(input(\"Please write the number you wish to see the row size, DON'T CRASH ME!\"))\n",
    "\n"
   ]
  },
  {
   "cell_type": "markdown",
   "metadata": {},
   "source": [
    "#Functions"
   ]
  },
  {
   "cell_type": "markdown",
   "metadata": {},
   "source": [
    "#Fake data is generated."
   ]
  },
  {
   "cell_type": "code",
   "execution_count": 3,
   "metadata": {},
   "outputs": [],
   "source": [
    "\n",
    "for i in range(row_number):\n",
    "    fake_data['from_customer'].append(fake.bothify(text='FRM-1#####'))\n",
    "    fake_data['amount'].append(fake.pyfloat(right_digits=2,positive=True,min_value=2.00,max_value=10000.00))\n",
    "    fake_data['timestamp'].append(fake.date_time_ad(start_datetime=datetime.datetime(2022,9,14)))\n",
    "    "
   ]
  },
  {
   "cell_type": "code",
   "execution_count": 4,
   "metadata": {},
   "outputs": [],
   "source": [
    "#To_customer feauture\n",
    "templist=[]\n",
    "#check the key value from list_converted defaultdict\n",
    "for k,v in list(fake_data.items()):\n",
    "    if k=='from_customer':\n",
    "        #Change FRM tag to TO tag\n",
    "        for item in v:\n",
    "                splited_item=item.split('-')\n",
    "                splited_item[0]='TO'\n",
    "                concat_item='-'.join(splited_item)\n",
    "                templist.append(concat_item)#item\n",
    "#To_customer yapısında yer değişikliği random\n",
    "random.shuffle(templist)\n",
    "fake_data['to_customer']=templist"
   ]
  },
  {
   "cell_type": "code",
   "execution_count": 5,
   "metadata": {},
   "outputs": [],
   "source": [
    "df=pd.DataFrame(fake_data)\n",
    "df=df[['from_customer','to_customer','amount','timestamp']]\n",
    "#dropped_df=df.drop(['amount','timestamp'], axis=1)"
   ]
  },
  {
   "cell_type": "code",
   "execution_count": 6,
   "metadata": {},
   "outputs": [],
   "source": [
    "try:\n",
    "    equal=any(df['from_customer'].str.extract('(\\d+)')==df['to_customer'].str.extract('(\\d+)'))\n",
    "except:\n",
    "    print(\"Same value error, please check your rows that may be have a same value\")"
   ]
  },
  {
   "cell_type": "code",
   "execution_count": 7,
   "metadata": {},
   "outputs": [
    {
     "data": {
      "text/html": [
       "<div>\n",
       "<style scoped>\n",
       "    .dataframe tbody tr th:only-of-type {\n",
       "        vertical-align: middle;\n",
       "    }\n",
       "\n",
       "    .dataframe tbody tr th {\n",
       "        vertical-align: top;\n",
       "    }\n",
       "\n",
       "    .dataframe thead th {\n",
       "        text-align: right;\n",
       "    }\n",
       "</style>\n",
       "<table border=\"1\" class=\"dataframe\">\n",
       "  <thead>\n",
       "    <tr style=\"text-align: right;\">\n",
       "      <th></th>\n",
       "      <th>from_customer</th>\n",
       "      <th>to_customer</th>\n",
       "      <th>amount</th>\n",
       "      <th>timestamp</th>\n",
       "    </tr>\n",
       "  </thead>\n",
       "  <tbody>\n",
       "    <tr>\n",
       "      <th>0</th>\n",
       "      <td>FRM-138230</td>\n",
       "      <td>TO-183433</td>\n",
       "      <td>4211.20</td>\n",
       "      <td>2022-09-16 22:16:59</td>\n",
       "    </tr>\n",
       "    <tr>\n",
       "      <th>1</th>\n",
       "      <td>FRM-107279</td>\n",
       "      <td>TO-182288</td>\n",
       "      <td>517.44</td>\n",
       "      <td>2022-10-06 09:34:49</td>\n",
       "    </tr>\n",
       "    <tr>\n",
       "      <th>2</th>\n",
       "      <td>FRM-154001</td>\n",
       "      <td>TO-155948</td>\n",
       "      <td>7049.10</td>\n",
       "      <td>2022-09-16 03:36:04</td>\n",
       "    </tr>\n",
       "    <tr>\n",
       "      <th>3</th>\n",
       "      <td>FRM-164676</td>\n",
       "      <td>TO-195458</td>\n",
       "      <td>3184.29</td>\n",
       "      <td>2022-10-02 14:37:38</td>\n",
       "    </tr>\n",
       "    <tr>\n",
       "      <th>4</th>\n",
       "      <td>FRM-117204</td>\n",
       "      <td>TO-126883</td>\n",
       "      <td>1235.77</td>\n",
       "      <td>2022-10-01 22:06:46</td>\n",
       "    </tr>\n",
       "  </tbody>\n",
       "</table>\n",
       "</div>"
      ],
      "text/plain": [
       "  from_customer to_customer   amount           timestamp\n",
       "0    FRM-138230   TO-183433  4211.20 2022-09-16 22:16:59\n",
       "1    FRM-107279   TO-182288   517.44 2022-10-06 09:34:49\n",
       "2    FRM-154001   TO-155948  7049.10 2022-09-16 03:36:04\n",
       "3    FRM-164676   TO-195458  3184.29 2022-10-02 14:37:38\n",
       "4    FRM-117204   TO-126883  1235.77 2022-10-01 22:06:46"
      ]
     },
     "execution_count": 7,
     "metadata": {},
     "output_type": "execute_result"
    }
   ],
   "source": [
    "#type(df_manipulation['from_customer'].str.extract('(\\d+)')==df_manipulation['to_customer'].str.extract('(\\d+)'))\n",
    "#GET INDEX NUMBER:\n",
    "    #df_manipulation[df['from_customer']=='FRM-757739'].index.item() \n",
    "#Seperate the numbers:\n",
    "    #df_manipulation['from_customer'].str.extract('(\\d+)'))\n",
    "    #df_manipulation['to_customer'].str.extract('(\\d+)'))\n",
    "df.head()"
   ]
  },
  {
   "cell_type": "code",
   "execution_count": 8,
   "metadata": {},
   "outputs": [],
   "source": [
    "from_or_to={'from_customer':'from_customer',\n",
    "                    'to_customer':'to_customer'}\n",
    "for i in range(len(from_or_to)):\n",
    "            list(from_or_to.keys())[i]=df[list(from_or_to.keys())[i]].to_list()\n",
    "            "
   ]
  },
  {
   "cell_type": "code",
   "execution_count": 9,
   "metadata": {},
   "outputs": [],
   "source": [
    "def pick_random_elements(dataFrame):\n",
    "        from_or_to=['from_customer','to_customer']\n",
    "        for i in range(len(dataFrame)):\n",
    "                randomized_customer=dataFrame.loc[:,random.choice(from_or_to)].iat[random.randint(25,len(dataFrame)-1)]\n",
    "                tweaked_customer_list.append(randomized_customer)\n",
    "                #If list is not unique start from beginning\n",
    "                \n",
    "                if not np.unique(tweaked_customer_list).size == len(tweaked_customer_list):\n",
    "                        tweaked_customer_list.clear()\n",
    "        if not tweaked_customer_list:\n",
    "            pick_random_elements(dataFrame)\n",
    "\n",
    "\n",
    "            \n",
    "def splitString(str):\n",
    "    alpha = \"\"\n",
    "    num = \"\"\n",
    "    special = \"\"\n",
    "    for i in range(len(str)):\n",
    "        if (str[i].isdigit()):\n",
    "            num = num+ str[i]\n",
    "        elif((str[i] >= 'A' and str[i] <= 'Z') or\n",
    "             (str[i] >= 'a' and str[i] <= 'z')):\n",
    "            alpha += str[i]\n",
    "        else:\n",
    "            special += str[i]\n",
    " \n",
    "    return(num)\n",
    "\n",
    "\n",
    "def sum_of_numbers(number):\n",
    "    if number>9:\n",
    "        ones=number%10\n",
    "        tens=(number-ones)/10\n",
    "        number=ones+tens\n",
    "    return int(number)\n",
    "\n",
    "def split_elements(customer_list):\n",
    "    for customer in customer_list:\n",
    "        if len(customer.split('-')[0])<=2:\n",
    "            receiver_list.append(customer)\n",
    "        else:\n",
    "            giver_list.append(customer)\n",
    "\n",
    "receiver_list=[]\n",
    "giver_list=[]\n",
    "tweaked_customer_list=[]"
   ]
  },
  {
   "cell_type": "code",
   "execution_count": 10,
   "metadata": {},
   "outputs": [
    {
     "name": "stdout",
     "output_type": "stream",
     "text": [
      "['TO-195716', 'TO-164676', 'TO-138230', 'FRM-114186', 'TO-120396', 'TO-101358', 'FRM-194722', 'FRM-142202', 'FRM-155820', 'TO-147078', 'TO-144861', 'FRM-155249']\n"
     ]
    }
   ],
   "source": [
    "pick_random_elements(df)\n",
    "print(tweaked_customer_list)\n",
    "split_elements(tweaked_customer_list)"
   ]
  },
  {
   "cell_type": "code",
   "execution_count": 11,
   "metadata": {},
   "outputs": [
    {
     "data": {
      "text/html": [
       "<div>\n",
       "<style scoped>\n",
       "    .dataframe tbody tr th:only-of-type {\n",
       "        vertical-align: middle;\n",
       "    }\n",
       "\n",
       "    .dataframe tbody tr th {\n",
       "        vertical-align: top;\n",
       "    }\n",
       "\n",
       "    .dataframe thead th {\n",
       "        text-align: right;\n",
       "    }\n",
       "</style>\n",
       "<table border=\"1\" class=\"dataframe\">\n",
       "  <thead>\n",
       "    <tr style=\"text-align: right;\">\n",
       "      <th></th>\n",
       "      <th>from_customer</th>\n",
       "      <th>to_customer</th>\n",
       "      <th>amount</th>\n",
       "      <th>timestamp</th>\n",
       "    </tr>\n",
       "  </thead>\n",
       "  <tbody>\n",
       "    <tr>\n",
       "      <th>0</th>\n",
       "      <td>FRM-138230</td>\n",
       "      <td>TO-183433</td>\n",
       "      <td>4211.20</td>\n",
       "      <td>2022-09-16 22:16:59</td>\n",
       "    </tr>\n",
       "    <tr>\n",
       "      <th>1</th>\n",
       "      <td>FRM-107279</td>\n",
       "      <td>TO-182288</td>\n",
       "      <td>517.44</td>\n",
       "      <td>2022-10-06 09:34:49</td>\n",
       "    </tr>\n",
       "    <tr>\n",
       "      <th>2</th>\n",
       "      <td>FRM-154001</td>\n",
       "      <td>TO-155948</td>\n",
       "      <td>7049.10</td>\n",
       "      <td>2022-09-16 03:36:04</td>\n",
       "    </tr>\n",
       "    <tr>\n",
       "      <th>3</th>\n",
       "      <td>FRM-164676</td>\n",
       "      <td>TO-195458</td>\n",
       "      <td>3184.29</td>\n",
       "      <td>2022-10-02 14:37:38</td>\n",
       "    </tr>\n",
       "    <tr>\n",
       "      <th>4</th>\n",
       "      <td>FRM-117204</td>\n",
       "      <td>TO-126883</td>\n",
       "      <td>1235.77</td>\n",
       "      <td>2022-10-01 22:06:46</td>\n",
       "    </tr>\n",
       "  </tbody>\n",
       "</table>\n",
       "</div>"
      ],
      "text/plain": [
       "  from_customer to_customer   amount           timestamp\n",
       "0    FRM-138230   TO-183433  4211.20 2022-09-16 22:16:59\n",
       "1    FRM-107279   TO-182288   517.44 2022-10-06 09:34:49\n",
       "2    FRM-154001   TO-155948  7049.10 2022-09-16 03:36:04\n",
       "3    FRM-164676   TO-195458  3184.29 2022-10-02 14:37:38\n",
       "4    FRM-117204   TO-126883  1235.77 2022-10-01 22:06:46"
      ]
     },
     "execution_count": 11,
     "metadata": {},
     "output_type": "execute_result"
    }
   ],
   "source": [
    "df.copy=df\n",
    "df.copy.head()"
   ]
  },
  {
   "cell_type": "code",
   "execution_count": 12,
   "metadata": {},
   "outputs": [],
   "source": [
    "#Replace random elements in from_customer\n",
    "def random_relationship(getlist):\n",
    "    for element in getlist:\n",
    "        df.copy['from_customer'] = df['from_customer'].replace([df.loc[random.randint(0,len(df)), 'from_customer'],element])"
   ]
  },
  {
   "cell_type": "code",
   "execution_count": 13,
   "metadata": {},
   "outputs": [
    {
     "data": {
      "text/plain": [
       "['FRM-114186', 'FRM-194722', 'FRM-142202', 'FRM-155820', 'FRM-155249']"
      ]
     },
     "execution_count": 13,
     "metadata": {},
     "output_type": "execute_result"
    }
   ],
   "source": [
    "random_relationship(giver_list)\n",
    "giver_list"
   ]
  },
  {
   "cell_type": "code",
   "execution_count": 14,
   "metadata": {},
   "outputs": [
    {
     "name": "stdout",
     "output_type": "stream",
     "text": [
      "from_customer\n",
      "101358    3\n",
      "104853    1\n",
      "107279    1\n",
      "110176    1\n",
      "112745    1\n",
      "114068    1\n",
      "117017    2\n",
      "117204    1\n",
      "120396    1\n",
      "122714    1\n",
      "126883    1\n",
      "127599    1\n",
      "137421    1\n",
      "138178    1\n",
      "138206    4\n",
      "138230    1\n",
      "144861    1\n",
      "146310    1\n",
      "147078    1\n",
      "150684    1\n",
      "153990    1\n",
      "154001    1\n",
      "155948    1\n",
      "156644    1\n",
      "163041    1\n",
      "164676    1\n",
      "164792    1\n",
      "173131    1\n",
      "173350    1\n",
      "177272    1\n",
      "180849    1\n",
      "182288    1\n",
      "183433    2\n",
      "186837    3\n",
      "193333    1\n",
      "195458    1\n",
      "195716    1\n",
      "198252    1\n",
      "198408    2\n",
      "198899    1\n",
      "dtype: int64\n"
     ]
    },
    {
     "data": {
      "text/html": [
       "<div>\n",
       "<style scoped>\n",
       "    .dataframe tbody tr th:only-of-type {\n",
       "        vertical-align: middle;\n",
       "    }\n",
       "\n",
       "    .dataframe tbody tr th {\n",
       "        vertical-align: top;\n",
       "    }\n",
       "\n",
       "    .dataframe thead th {\n",
       "        text-align: right;\n",
       "    }\n",
       "</style>\n",
       "<table border=\"1\" class=\"dataframe\">\n",
       "  <thead>\n",
       "    <tr style=\"text-align: right;\">\n",
       "      <th></th>\n",
       "      <th>from_customer</th>\n",
       "      <th>to_customer</th>\n",
       "      <th>amount</th>\n",
       "      <th>timestamp</th>\n",
       "    </tr>\n",
       "  </thead>\n",
       "  <tbody>\n",
       "    <tr>\n",
       "      <th>0</th>\n",
       "      <td>138230</td>\n",
       "      <td>183433</td>\n",
       "      <td>4211.20</td>\n",
       "      <td>2022-09-16 22:16:59</td>\n",
       "    </tr>\n",
       "    <tr>\n",
       "      <th>1</th>\n",
       "      <td>107279</td>\n",
       "      <td>182288</td>\n",
       "      <td>517.44</td>\n",
       "      <td>2022-10-06 09:34:49</td>\n",
       "    </tr>\n",
       "    <tr>\n",
       "      <th>2</th>\n",
       "      <td>154001</td>\n",
       "      <td>155948</td>\n",
       "      <td>7049.10</td>\n",
       "      <td>2022-09-16 03:36:04</td>\n",
       "    </tr>\n",
       "    <tr>\n",
       "      <th>3</th>\n",
       "      <td>164676</td>\n",
       "      <td>195458</td>\n",
       "      <td>3184.29</td>\n",
       "      <td>2022-10-02 14:37:38</td>\n",
       "    </tr>\n",
       "    <tr>\n",
       "      <th>4</th>\n",
       "      <td>117204</td>\n",
       "      <td>126883</td>\n",
       "      <td>1235.77</td>\n",
       "      <td>2022-10-01 22:06:46</td>\n",
       "    </tr>\n",
       "  </tbody>\n",
       "</table>\n",
       "</div>"
      ],
      "text/plain": [
       "  from_customer to_customer   amount           timestamp\n",
       "0        138230      183433  4211.20 2022-09-16 22:16:59\n",
       "1        107279      182288   517.44 2022-10-06 09:34:49\n",
       "2        154001      155948  7049.10 2022-09-16 03:36:04\n",
       "3        164676      195458  3184.29 2022-10-02 14:37:38\n",
       "4        117204      126883  1235.77 2022-10-01 22:06:46"
      ]
     },
     "execution_count": 14,
     "metadata": {},
     "output_type": "execute_result"
    }
   ],
   "source": [
    "#Get the duplicateds\n",
    "df.copy['from_customer']=df.copy['from_customer'].str.extract('(\\d+)')\n",
    "df.copy['to_customer']=df.copy['to_customer'].str.extract('(\\d+)')\n",
    "dups_color = df.copy.pivot_table(columns=['from_customer'], aggfunc='size')\n",
    "print(dups_color)\n",
    "df.copy.head()"
   ]
  },
  {
   "cell_type": "markdown",
   "metadata": {},
   "source": [
    "#Neo4j"
   ]
  },
  {
   "cell_type": "code",
   "execution_count": 19,
   "metadata": {},
   "outputs": [],
   "source": [
    "from neo4j import GraphDatabase\n",
    "\n",
    "transaction_list = df.copy.values.tolist()\n",
    "execution_commands=[]\n",
    "\n",
    "\n",
    "for i in transaction_list:\n",
    "    if str(i[0])\n",
    "    neo4j_create_statement = \"CREATE (f:from_customer {from_customer_id: \" + str(i[0]) +\"}), (t:to_customer {to_customer_id: \" + str(i[1]) + \"})\"+\"Create (f)-[:Transaction{amaount: \" + str(i[2]) + \"}] -> (t)\"\n",
    "    #neo4j_create_relationship=\"Create (\"+str(i[0])+\")-[:Transaction{amaount: \" + str(i[2]) + \"}] -> (\"+str(i[1])+\")\"\n",
    "    execution_commands.append(neo4j_create_statement)\n",
    "\n",
    "def exec_transaction(execution_commands):\n",
    "    db_connection=GraphDatabase.driver(uri=\"bolt://localhost:7687\",auth=('neo4j','test'))\n",
    "    session=db_connection.session()\n",
    "    for i in execution_commands:\n",
    "        session.run(i)\n",
    "\n",
    "exec_transaction(execution_commands)"
   ]
  }
 ],
 "metadata": {
  "kernelspec": {
   "display_name": "Python 3.10.6 ('env': venv)",
   "language": "python",
   "name": "python3"
  },
  "language_info": {
   "codemirror_mode": {
    "name": "ipython",
    "version": 3
   },
   "file_extension": ".py",
   "mimetype": "text/x-python",
   "name": "python",
   "nbconvert_exporter": "python",
   "pygments_lexer": "ipython3",
   "version": "3.10.6"
  },
  "orig_nbformat": 4,
  "vscode": {
   "interpreter": {
    "hash": "874a6de952d544f4cb877a8d13eabeae5b2291f673584fafdaac9408f5f0cba8"
   }
  }
 },
 "nbformat": 4,
 "nbformat_minor": 2
}
