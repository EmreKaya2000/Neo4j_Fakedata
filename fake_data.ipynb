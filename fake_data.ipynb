{
 "cells": [
  {
   "cell_type": "code",
   "execution_count": 1,
   "metadata": {},
   "outputs": [],
   "source": [
    "import pandas as pd\n",
    "import numpy as np\n",
    "from faker import Faker\n",
    "from collections import defaultdict\n",
    "from sqlalchemy import create_engine\n",
    "import datetime\n",
    "import random\n"
   ]
  },
  {
   "cell_type": "code",
   "execution_count": 2,
   "metadata": {},
   "outputs": [],
   "source": [
    "fake=Faker()\n",
    "\n",
    "fake_data = defaultdict(list)\n"
   ]
  },
  {
   "cell_type": "markdown",
   "metadata": {},
   "source": [
    "#Fake data is generated."
   ]
  },
  {
   "cell_type": "code",
   "execution_count": 3,
   "metadata": {},
   "outputs": [],
   "source": [
    "\n",
    "for i in range(50):\n",
    "    fake_data['from_customer'].append(fake.bothify(text='FRM-######'))\n",
    "    fake_data['amount'].append(fake.pyfloat(right_digits=2,positive=True,min_value=2.00,max_value=10000.00))\n",
    "    fake_data['timestamp'].append(fake.date_time_ad(start_datetime=datetime.datetime(2022,9,14)))\n",
    "    "
   ]
  },
  {
   "cell_type": "code",
   "execution_count": 4,
   "metadata": {},
   "outputs": [],
   "source": [
    "#To_customer feauture\n",
    "templist=[]\n",
    "#check the key value from list_converted defaultdict\n",
    "for k,v in list(fake_data.items()):\n",
    "    if k=='from_customer':\n",
    "        #Change FRM tag to TO tag\n",
    "        for item in v:\n",
    "                splited_item=item.split('-')\n",
    "                splited_item[0]='TO'\n",
    "                concat_item='-'.join(splited_item)\n",
    "                templist.append(concat_item)#item\n",
    "#To_customer yapısında yer değişikliği random\n",
    "random.shuffle(templist)\n",
    "fake_data['to_customer']=templist"
   ]
  },
  {
   "cell_type": "code",
   "execution_count": 5,
   "metadata": {},
   "outputs": [],
   "source": [
    "df=pd.DataFrame(fake_data)\n",
    "df=df[['from_customer','to_customer','amount','timestamp']]\n",
    "dropped_df=df.drop(['amount','timestamp'], axis=1)"
   ]
  },
  {
   "cell_type": "code",
   "execution_count": null,
   "metadata": {},
   "outputs": [],
   "source": [
    "df_manipulation = dropped_df.sample(random.randint(3,9))\n",
    "df_manipulation['from_customer'].str.extract('(\\d+)')==df_manipulation['to_customer'].str.extract('(\\d+)')"
   ]
  }
 ],
 "metadata": {
  "kernelspec": {
   "display_name": "Python 3.10.6 ('env': venv)",
   "language": "python",
   "name": "python3"
  },
  "language_info": {
   "codemirror_mode": {
    "name": "ipython",
    "version": 3
   },
   "file_extension": ".py",
   "mimetype": "text/x-python",
   "name": "python",
   "nbconvert_exporter": "python",
   "pygments_lexer": "ipython3",
   "version": "3.10.6"
  },
  "orig_nbformat": 4,
  "vscode": {
   "interpreter": {
    "hash": "874a6de952d544f4cb877a8d13eabeae5b2291f673584fafdaac9408f5f0cba8"
   }
  }
 },
 "nbformat": 4,
 "nbformat_minor": 2
}
