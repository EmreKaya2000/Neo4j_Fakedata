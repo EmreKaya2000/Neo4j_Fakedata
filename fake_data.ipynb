{
 "cells": [
  {
   "cell_type": "code",
   "execution_count": 1,
   "metadata": {},
   "outputs": [],
   "source": [
    "import pandas as pd\n",
    "import numpy as np\n",
    "from faker import Faker\n",
    "from collections import defaultdict\n",
    "from sqlalchemy import create_engine\n",
    "import datetime\n",
    "import random\n",
    "import re\n"
   ]
  },
  {
   "cell_type": "code",
   "execution_count": 2,
   "metadata": {},
   "outputs": [],
   "source": [
    "from numpy import integer\n",
    "\n",
    "\n",
    "fake=Faker()\n",
    "\n",
    "fake_data = defaultdict(list)\n",
    "\n",
    "row_number=int(input(\"Please write the number you wish to see the row size, DON'T CRASH ME!\"))\n",
    "\n"
   ]
  },
  {
   "cell_type": "markdown",
   "metadata": {},
   "source": [
    "#Fake data is generated."
   ]
  },
  {
   "cell_type": "code",
   "execution_count": 3,
   "metadata": {},
   "outputs": [],
   "source": [
    "\n",
    "for i in range(row_number):\n",
    "    fake_data['from_customer'].append(fake.bothify(text='FRM-######'))\n",
    "    fake_data['amount'].append(fake.pyfloat(right_digits=2,positive=True,min_value=2.00,max_value=10000.00))\n",
    "    fake_data['timestamp'].append(fake.date_time_ad(start_datetime=datetime.datetime(2022,9,14)))\n",
    "    "
   ]
  },
  {
   "cell_type": "code",
   "execution_count": 4,
   "metadata": {},
   "outputs": [],
   "source": [
    "#To_customer feauture\n",
    "templist=[]\n",
    "#check the key value from list_converted defaultdict\n",
    "for k,v in list(fake_data.items()):\n",
    "    if k=='from_customer':\n",
    "        #Change FRM tag to TO tag\n",
    "        for item in v:\n",
    "                splited_item=item.split('-')\n",
    "                splited_item[0]='TO'\n",
    "                concat_item='-'.join(splited_item)\n",
    "                templist.append(concat_item)#item\n",
    "#To_customer yapısında yer değişikliği random\n",
    "random.shuffle(templist)\n",
    "fake_data['to_customer']=templist"
   ]
  },
  {
   "cell_type": "code",
   "execution_count": 5,
   "metadata": {},
   "outputs": [],
   "source": [
    "df=pd.DataFrame(fake_data)\n",
    "df=df[['from_customer','to_customer','amount','timestamp']]\n",
    "dropped_df=df.drop(['amount','timestamp'], axis=1)"
   ]
  },
  {
   "cell_type": "code",
   "execution_count": 6,
   "metadata": {},
   "outputs": [],
   "source": [
    "df_manipulation = dropped_df.sample(random.randint(row_number/10,row_number/5))"
   ]
  },
  {
   "cell_type": "code",
   "execution_count": 7,
   "metadata": {},
   "outputs": [],
   "source": [
    "try:\n",
    "    equal=any(df_manipulation['from_customer'].str.extract('(\\d+)')==df_manipulation['to_customer'].str.extract('(\\d+)'))\n",
    "except:\n",
    "    print(\"Same value error, please check your rows that may be have a same value\")"
   ]
  },
  {
   "cell_type": "code",
   "execution_count": 8,
   "metadata": {},
   "outputs": [
    {
     "data": {
      "text/html": [
       "<div>\n",
       "<style scoped>\n",
       "    .dataframe tbody tr th:only-of-type {\n",
       "        vertical-align: middle;\n",
       "    }\n",
       "\n",
       "    .dataframe tbody tr th {\n",
       "        vertical-align: top;\n",
       "    }\n",
       "\n",
       "    .dataframe thead th {\n",
       "        text-align: right;\n",
       "    }\n",
       "</style>\n",
       "<table border=\"1\" class=\"dataframe\">\n",
       "  <thead>\n",
       "    <tr style=\"text-align: right;\">\n",
       "      <th></th>\n",
       "      <th>from_customer</th>\n",
       "      <th>to_customer</th>\n",
       "    </tr>\n",
       "  </thead>\n",
       "  <tbody>\n",
       "    <tr>\n",
       "      <th>908</th>\n",
       "      <td>FRM-179610</td>\n",
       "      <td>TO-535618</td>\n",
       "    </tr>\n",
       "    <tr>\n",
       "      <th>1844</th>\n",
       "      <td>FRM-004910</td>\n",
       "      <td>TO-695738</td>\n",
       "    </tr>\n",
       "    <tr>\n",
       "      <th>1906</th>\n",
       "      <td>FRM-800966</td>\n",
       "      <td>TO-690465</td>\n",
       "    </tr>\n",
       "    <tr>\n",
       "      <th>920</th>\n",
       "      <td>FRM-582966</td>\n",
       "      <td>TO-073918</td>\n",
       "    </tr>\n",
       "    <tr>\n",
       "      <th>977</th>\n",
       "      <td>FRM-333893</td>\n",
       "      <td>TO-771666</td>\n",
       "    </tr>\n",
       "    <tr>\n",
       "      <th>...</th>\n",
       "      <td>...</td>\n",
       "      <td>...</td>\n",
       "    </tr>\n",
       "    <tr>\n",
       "      <th>1207</th>\n",
       "      <td>FRM-026236</td>\n",
       "      <td>TO-291726</td>\n",
       "    </tr>\n",
       "    <tr>\n",
       "      <th>508</th>\n",
       "      <td>FRM-908926</td>\n",
       "      <td>TO-504657</td>\n",
       "    </tr>\n",
       "    <tr>\n",
       "      <th>1777</th>\n",
       "      <td>FRM-597053</td>\n",
       "      <td>TO-908622</td>\n",
       "    </tr>\n",
       "    <tr>\n",
       "      <th>208</th>\n",
       "      <td>FRM-091386</td>\n",
       "      <td>TO-576697</td>\n",
       "    </tr>\n",
       "    <tr>\n",
       "      <th>209</th>\n",
       "      <td>FRM-882935</td>\n",
       "      <td>TO-150696</td>\n",
       "    </tr>\n",
       "  </tbody>\n",
       "</table>\n",
       "<p>360 rows × 2 columns</p>\n",
       "</div>"
      ],
      "text/plain": [
       "     from_customer to_customer\n",
       "908     FRM-179610   TO-535618\n",
       "1844    FRM-004910   TO-695738\n",
       "1906    FRM-800966   TO-690465\n",
       "920     FRM-582966   TO-073918\n",
       "977     FRM-333893   TO-771666\n",
       "...            ...         ...\n",
       "1207    FRM-026236   TO-291726\n",
       "508     FRM-908926   TO-504657\n",
       "1777    FRM-597053   TO-908622\n",
       "208     FRM-091386   TO-576697\n",
       "209     FRM-882935   TO-150696\n",
       "\n",
       "[360 rows x 2 columns]"
      ]
     },
     "execution_count": 8,
     "metadata": {},
     "output_type": "execute_result"
    }
   ],
   "source": [
    "#type(df_manipulation['from_customer'].str.extract('(\\d+)')==df_manipulation['to_customer'].str.extract('(\\d+)'))\n",
    "df_manipulation"
   ]
  },
  {
   "cell_type": "code",
   "execution_count": 9,
   "metadata": {},
   "outputs": [],
   "source": [
    "#GET INDEX NUMBER:\n",
    "    #df_manipulation[df['from_customer']=='FRM-757739'].index.item() \n",
    "#Seperate the numbers:\n",
    "    #df_manipulation['from_customer'].str.extract('(\\d+)'))\n",
    "    #df_manipulation['to_customer'].str.extract('(\\d+)'))"
   ]
  },
  {
   "cell_type": "code",
   "execution_count": 10,
   "metadata": {},
   "outputs": [],
   "source": [
    "tweaked_customer_list=[]\n",
    "from_or_to=['from_customer','to_customer']\n",
    "for _ in range(len(df_manipulation)):\n",
    "        randomized_customer=df_manipulation[random.choice(from_or_to)].iat[random.randint(1,len(df_manipulation)-1)]\n",
    "        tweaked_customer_list.append(randomized_customer)\n",
    "        #If list is not unique start from beginning\n",
    "        if not np.unique(tweaked_customer_list).size == len(tweaked_customer_list):\n",
    "                tweaked_customer_list.clear()"
   ]
  },
  {
   "cell_type": "code",
   "execution_count": 11,
   "metadata": {},
   "outputs": [
    {
     "data": {
      "text/plain": [
       "['FRM-470995',\n",
       " 'TO-614018',\n",
       " 'TO-402652',\n",
       " 'FRM-974642',\n",
       " 'TO-981079',\n",
       " 'TO-008597',\n",
       " 'FRM-573840',\n",
       " 'FRM-723884',\n",
       " 'FRM-021258',\n",
       " 'FRM-148280',\n",
       " 'TO-005657',\n",
       " 'FRM-243052',\n",
       " 'TO-928497',\n",
       " 'TO-060932',\n",
       " 'TO-640969',\n",
       " 'TO-485728',\n",
       " 'TO-484308',\n",
       " 'FRM-083002',\n",
       " 'FRM-036705',\n",
       " 'FRM-142223',\n",
       " 'TO-026236',\n",
       " 'FRM-748414',\n",
       " 'FRM-163649',\n",
       " 'TO-876414',\n",
       " 'TO-609456',\n",
       " 'FRM-238240',\n",
       " 'FRM-481854',\n",
       " 'FRM-407406',\n",
       " 'TO-627855',\n",
       " 'FRM-335130',\n",
       " 'FRM-800966',\n",
       " 'FRM-400892',\n",
       " 'FRM-445453',\n",
       " 'TO-228018',\n",
       " 'TO-073918',\n",
       " 'FRM-751974',\n",
       " 'FRM-674947',\n",
       " 'TO-909822',\n",
       " 'FRM-968504',\n",
       " 'TO-361987',\n",
       " 'TO-687206']"
      ]
     },
     "execution_count": 11,
     "metadata": {},
     "output_type": "execute_result"
    }
   ],
   "source": [
    "tweaked_customer_list"
   ]
  },
  {
   "cell_type": "code",
   "execution_count": 13,
   "metadata": {},
   "outputs": [],
   "source": [
    "def splitString(str):\n",
    " \n",
    "    alpha = \"\"\n",
    "    num = \"\"\n",
    "    special = \"\"\n",
    "    for i in range(len(str)):\n",
    "        if (str[i].isdigit()):\n",
    "            num = num+ str[i]\n",
    "        elif((str[i] >= 'A' and str[i] <= 'Z') or\n",
    "             (str[i] >= 'a' and str[i] <= 'z')):\n",
    "            alpha += str[i]\n",
    "        else:\n",
    "            special += str[i]\n",
    " \n",
    "    return(num)"
   ]
  },
  {
   "cell_type": "code",
   "execution_count": 22,
   "metadata": {},
   "outputs": [],
   "source": [
    "receiver=[]\n",
    "giver=[]\n",
    "for customer in tweaked_customer_list:\n",
    "    if len(customer.split('-')[0])<=2:\n",
    "        receiver.append(customer)\n",
    "    else:\n",
    "        giver.append(customer)\n",
    "    "
   ]
  },
  {
   "cell_type": "code",
   "execution_count": 51,
   "metadata": {},
   "outputs": [
    {
     "data": {
      "text/plain": [
       "['FRM-470995',\n",
       " 'FRM-974642',\n",
       " 'FRM-573840',\n",
       " 'FRM-723884',\n",
       " 'FRM-021258',\n",
       " 'FRM-148280',\n",
       " 'FRM-243052',\n",
       " 'FRM-083002',\n",
       " 'FRM-036705',\n",
       " 'FRM-142223',\n",
       " 'FRM-748414',\n",
       " 'FRM-163649',\n",
       " 'FRM-238240',\n",
       " 'FRM-481854',\n",
       " 'FRM-407406',\n",
       " 'FRM-335130',\n",
       " 'FRM-800966',\n",
       " 'FRM-400892',\n",
       " 'FRM-445453',\n",
       " 'FRM-751974',\n",
       " 'FRM-674947',\n",
       " 'FRM-968504']"
      ]
     },
     "execution_count": 51,
     "metadata": {},
     "output_type": "execute_result"
    }
   ],
   "source": [
    "giver"
   ]
  },
  {
   "cell_type": "code",
   "execution_count": 49,
   "metadata": {},
   "outputs": [
    {
     "name": "stdout",
     "output_type": "stream",
     "text": [
      "9\n",
      "1.0\n"
     ]
    },
    {
     "data": {
      "text/plain": [
       "10.0"
      ]
     },
     "execution_count": 49,
     "metadata": {},
     "output_type": "execute_result"
    }
   ],
   "source": [
    "ones=len(receiver)%10\n",
    "tens=(len(receiver)-ones)/10\n",
    "sonuc=ones+tens\n",
    "sonuc"
   ]
  },
  {
   "cell_type": "code",
   "execution_count": null,
   "metadata": {},
   "outputs": [],
   "source": []
  }
 ],
 "metadata": {
  "kernelspec": {
   "display_name": "Python 3.10.6 ('env': venv)",
   "language": "python",
   "name": "python3"
  },
  "language_info": {
   "codemirror_mode": {
    "name": "ipython",
    "version": 3
   },
   "file_extension": ".py",
   "mimetype": "text/x-python",
   "name": "python",
   "nbconvert_exporter": "python",
   "pygments_lexer": "ipython3",
   "version": "3.10.6"
  },
  "orig_nbformat": 4,
  "vscode": {
   "interpreter": {
    "hash": "874a6de952d544f4cb877a8d13eabeae5b2291f673584fafdaac9408f5f0cba8"
   }
  }
 },
 "nbformat": 4,
 "nbformat_minor": 2
}
