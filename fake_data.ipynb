{
 "cells": [
  {
   "cell_type": "code",
   "execution_count": 1,
   "metadata": {},
   "outputs": [],
   "source": [
    "import pandas as pd\n",
    "import numpy as np\n",
    "from faker import Faker\n",
    "from collections import defaultdict\n",
    "from sqlalchemy import create_engine\n",
    "import datetime\n",
    "import random\n",
    "import re\n"
   ]
  },
  {
   "cell_type": "code",
   "execution_count": 2,
   "metadata": {},
   "outputs": [],
   "source": [
    "from numpy import integer\n",
    "\n",
    "\n",
    "fake=Faker()\n",
    "\n",
    "fake_data = defaultdict(list)\n",
    "\n",
    "row_number=int(input(\"Please write the number you wish to see the row size, DON'T CRASH ME!\"))\n",
    "\n"
   ]
  },
  {
   "cell_type": "markdown",
   "metadata": {},
   "source": [
    "#Functions"
   ]
  },
  {
   "cell_type": "markdown",
   "metadata": {},
   "source": [
    "#Fake data is generated."
   ]
  },
  {
   "cell_type": "code",
   "execution_count": 3,
   "metadata": {},
   "outputs": [],
   "source": [
    "\n",
    "for i in range(row_number):\n",
    "    fake_data['from_customer'].append(fake.bothify(text='FRM-######'))\n",
    "    fake_data['amount'].append(fake.pyfloat(right_digits=2,positive=True,min_value=2.00,max_value=10000.00))\n",
    "    fake_data['timestamp'].append(fake.date_time_ad(start_datetime=datetime.datetime(2022,9,14)))\n",
    "    "
   ]
  },
  {
   "cell_type": "code",
   "execution_count": 4,
   "metadata": {},
   "outputs": [],
   "source": [
    "#To_customer feauture\n",
    "templist=[]\n",
    "#check the key value from list_converted defaultdict\n",
    "for k,v in list(fake_data.items()):\n",
    "    if k=='from_customer':\n",
    "        #Change FRM tag to TO tag\n",
    "        for item in v:\n",
    "                splited_item=item.split('-')\n",
    "                splited_item[0]='TO'\n",
    "                concat_item='-'.join(splited_item)\n",
    "                templist.append(concat_item)#item\n",
    "#To_customer yapısında yer değişikliği random\n",
    "random.shuffle(templist)\n",
    "fake_data['to_customer']=templist"
   ]
  },
  {
   "cell_type": "code",
   "execution_count": 5,
   "metadata": {},
   "outputs": [],
   "source": [
    "df=pd.DataFrame(fake_data)\n",
    "df=df[['from_customer','to_customer','amount','timestamp']]\n",
    "#dropped_df=df.drop(['amount','timestamp'], axis=1)"
   ]
  },
  {
   "cell_type": "code",
   "execution_count": 6,
   "metadata": {},
   "outputs": [],
   "source": [
    "try:\n",
    "    equal=any(df['from_customer'].str.extract('(\\d+)')==df['to_customer'].str.extract('(\\d+)'))\n",
    "except:\n",
    "    print(\"Same value error, please check your rows that may be have a same value\")"
   ]
  },
  {
   "cell_type": "code",
   "execution_count": 7,
   "metadata": {},
   "outputs": [
    {
     "data": {
      "text/html": [
       "<div>\n",
       "<style scoped>\n",
       "    .dataframe tbody tr th:only-of-type {\n",
       "        vertical-align: middle;\n",
       "    }\n",
       "\n",
       "    .dataframe tbody tr th {\n",
       "        vertical-align: top;\n",
       "    }\n",
       "\n",
       "    .dataframe thead th {\n",
       "        text-align: right;\n",
       "    }\n",
       "</style>\n",
       "<table border=\"1\" class=\"dataframe\">\n",
       "  <thead>\n",
       "    <tr style=\"text-align: right;\">\n",
       "      <th></th>\n",
       "      <th>from_customer</th>\n",
       "      <th>to_customer</th>\n",
       "      <th>amount</th>\n",
       "      <th>timestamp</th>\n",
       "    </tr>\n",
       "  </thead>\n",
       "  <tbody>\n",
       "    <tr>\n",
       "      <th>0</th>\n",
       "      <td>FRM-463190</td>\n",
       "      <td>TO-434585</td>\n",
       "      <td>3996.72</td>\n",
       "      <td>2022-09-15 17:23:22</td>\n",
       "    </tr>\n",
       "    <tr>\n",
       "      <th>1</th>\n",
       "      <td>FRM-175348</td>\n",
       "      <td>TO-526414</td>\n",
       "      <td>3416.57</td>\n",
       "      <td>2022-10-12 02:15:01</td>\n",
       "    </tr>\n",
       "    <tr>\n",
       "      <th>2</th>\n",
       "      <td>FRM-362506</td>\n",
       "      <td>TO-453609</td>\n",
       "      <td>8797.20</td>\n",
       "      <td>2022-09-29 07:05:03</td>\n",
       "    </tr>\n",
       "    <tr>\n",
       "      <th>3</th>\n",
       "      <td>FRM-357098</td>\n",
       "      <td>TO-367255</td>\n",
       "      <td>4564.47</td>\n",
       "      <td>2022-09-23 06:27:02</td>\n",
       "    </tr>\n",
       "    <tr>\n",
       "      <th>4</th>\n",
       "      <td>FRM-782273</td>\n",
       "      <td>TO-858955</td>\n",
       "      <td>330.53</td>\n",
       "      <td>2022-09-16 12:49:18</td>\n",
       "    </tr>\n",
       "  </tbody>\n",
       "</table>\n",
       "</div>"
      ],
      "text/plain": [
       "  from_customer to_customer   amount           timestamp\n",
       "0    FRM-463190   TO-434585  3996.72 2022-09-15 17:23:22\n",
       "1    FRM-175348   TO-526414  3416.57 2022-10-12 02:15:01\n",
       "2    FRM-362506   TO-453609  8797.20 2022-09-29 07:05:03\n",
       "3    FRM-357098   TO-367255  4564.47 2022-09-23 06:27:02\n",
       "4    FRM-782273   TO-858955   330.53 2022-09-16 12:49:18"
      ]
     },
     "execution_count": 7,
     "metadata": {},
     "output_type": "execute_result"
    }
   ],
   "source": [
    "#type(df_manipulation['from_customer'].str.extract('(\\d+)')==df_manipulation['to_customer'].str.extract('(\\d+)'))\n",
    "#GET INDEX NUMBER:\n",
    "    #df_manipulation[df['from_customer']=='FRM-757739'].index.item() \n",
    "#Seperate the numbers:\n",
    "    #df_manipulation['from_customer'].str.extract('(\\d+)'))\n",
    "    #df_manipulation['to_customer'].str.extract('(\\d+)'))\n",
    "df.head()"
   ]
  },
  {
   "cell_type": "code",
   "execution_count": 8,
   "metadata": {},
   "outputs": [],
   "source": [
    "from_or_to={'from_customer':'from_customer',\n",
    "                    'to_customer':'to_customer'}\n",
    "for i in range(len(from_or_to)):\n",
    "            list(from_or_to.keys())[i]=df[list(from_or_to.keys())[i]].to_list()\n",
    "            "
   ]
  },
  {
   "cell_type": "code",
   "execution_count": 9,
   "metadata": {},
   "outputs": [],
   "source": [
    "def pick_random_elements(dataFrame):\n",
    "        from_or_to=['from_customer','to_customer']\n",
    "        for i in range(len(dataFrame)):\n",
    "                randomized_customer=dataFrame.loc[:,random.choice(from_or_to)].iat[random.randint(1,len(dataFrame)-1)]\n",
    "                tweaked_customer_list.append(randomized_customer)\n",
    "                #If list is not unique start from beginning\n",
    "                \n",
    "                if not np.unique(tweaked_customer_list).size == len(tweaked_customer_list):\n",
    "                        tweaked_customer_list.clear()\n",
    "        if not tweaked_customer_list:\n",
    "            pick_random_elements(dataFrame)\n",
    "\n",
    "\n",
    "            \n",
    "def splitString(str):\n",
    "    alpha = \"\"\n",
    "    num = \"\"\n",
    "    special = \"\"\n",
    "    for i in range(len(str)):\n",
    "        if (str[i].isdigit()):\n",
    "            num = num+ str[i]\n",
    "        elif((str[i] >= 'A' and str[i] <= 'Z') or\n",
    "             (str[i] >= 'a' and str[i] <= 'z')):\n",
    "            alpha += str[i]\n",
    "        else:\n",
    "            special += str[i]\n",
    " \n",
    "    return(num)\n",
    "\n",
    "\n",
    "def sum_of_numbers(number):\n",
    "    if number>9:\n",
    "        ones=number%10\n",
    "        tens=(number-ones)/10\n",
    "        number=ones+tens\n",
    "    return int(number)\n",
    "\n",
    "def split_elements(customer_list):\n",
    "    for customer in customer_list:\n",
    "        if len(customer.split('-')[0])<=2:\n",
    "            receiver_list.append(customer)\n",
    "        else:\n",
    "            giver_list.append(customer)\n",
    "\n",
    "receiver_list=[]\n",
    "giver_list=[]\n",
    "tweaked_customer_list=[]"
   ]
  },
  {
   "cell_type": "code",
   "execution_count": 10,
   "metadata": {},
   "outputs": [
    {
     "name": "stdout",
     "output_type": "stream",
     "text": [
      "['TO-098865', 'FRM-978040', 'TO-547133', 'TO-907664', 'FRM-452106', 'TO-110662', 'FRM-357658', 'FRM-686293', 'FRM-018918', 'TO-918504', 'FRM-607488', 'FRM-731206', 'TO-924061', 'TO-311376', 'FRM-213649']\n"
     ]
    }
   ],
   "source": [
    "pick_random_elements(df)\n",
    "print(tweaked_customer_list)\n",
    "split_elements(tweaked_customer_list)"
   ]
  },
  {
   "cell_type": "code",
   "execution_count": 11,
   "metadata": {},
   "outputs": [
    {
     "data": {
      "text/html": [
       "<div>\n",
       "<style scoped>\n",
       "    .dataframe tbody tr th:only-of-type {\n",
       "        vertical-align: middle;\n",
       "    }\n",
       "\n",
       "    .dataframe tbody tr th {\n",
       "        vertical-align: top;\n",
       "    }\n",
       "\n",
       "    .dataframe thead th {\n",
       "        text-align: right;\n",
       "    }\n",
       "</style>\n",
       "<table border=\"1\" class=\"dataframe\">\n",
       "  <thead>\n",
       "    <tr style=\"text-align: right;\">\n",
       "      <th></th>\n",
       "      <th>from_customer</th>\n",
       "      <th>to_customer</th>\n",
       "      <th>amount</th>\n",
       "      <th>timestamp</th>\n",
       "    </tr>\n",
       "  </thead>\n",
       "  <tbody>\n",
       "    <tr>\n",
       "      <th>0</th>\n",
       "      <td>FRM-463190</td>\n",
       "      <td>TO-434585</td>\n",
       "      <td>3996.72</td>\n",
       "      <td>2022-09-15 17:23:22</td>\n",
       "    </tr>\n",
       "    <tr>\n",
       "      <th>1</th>\n",
       "      <td>FRM-175348</td>\n",
       "      <td>TO-526414</td>\n",
       "      <td>3416.57</td>\n",
       "      <td>2022-10-12 02:15:01</td>\n",
       "    </tr>\n",
       "    <tr>\n",
       "      <th>2</th>\n",
       "      <td>FRM-362506</td>\n",
       "      <td>TO-453609</td>\n",
       "      <td>8797.20</td>\n",
       "      <td>2022-09-29 07:05:03</td>\n",
       "    </tr>\n",
       "    <tr>\n",
       "      <th>3</th>\n",
       "      <td>FRM-357098</td>\n",
       "      <td>TO-367255</td>\n",
       "      <td>4564.47</td>\n",
       "      <td>2022-09-23 06:27:02</td>\n",
       "    </tr>\n",
       "    <tr>\n",
       "      <th>4</th>\n",
       "      <td>FRM-782273</td>\n",
       "      <td>TO-858955</td>\n",
       "      <td>330.53</td>\n",
       "      <td>2022-09-16 12:49:18</td>\n",
       "    </tr>\n",
       "  </tbody>\n",
       "</table>\n",
       "</div>"
      ],
      "text/plain": [
       "  from_customer to_customer   amount           timestamp\n",
       "0    FRM-463190   TO-434585  3996.72 2022-09-15 17:23:22\n",
       "1    FRM-175348   TO-526414  3416.57 2022-10-12 02:15:01\n",
       "2    FRM-362506   TO-453609  8797.20 2022-09-29 07:05:03\n",
       "3    FRM-357098   TO-367255  4564.47 2022-09-23 06:27:02\n",
       "4    FRM-782273   TO-858955   330.53 2022-09-16 12:49:18"
      ]
     },
     "execution_count": 11,
     "metadata": {},
     "output_type": "execute_result"
    }
   ],
   "source": [
    "df.copy=df\n",
    "df.copy.head()"
   ]
  },
  {
   "cell_type": "code",
   "execution_count": 12,
   "metadata": {},
   "outputs": [],
   "source": [
    "#Replace random elements in from_customer\n",
    "def random_relationship(from_list):\n",
    "    for element in from_list:\n",
    "        df.copy['from_customer'] = df['from_customer'].replace([df.loc[random.randint(0,len(df)), 'from_customer'],element])"
   ]
  },
  {
   "cell_type": "code",
   "execution_count": 13,
   "metadata": {},
   "outputs": [
    {
     "data": {
      "text/html": [
       "<div>\n",
       "<style scoped>\n",
       "    .dataframe tbody tr th:only-of-type {\n",
       "        vertical-align: middle;\n",
       "    }\n",
       "\n",
       "    .dataframe tbody tr th {\n",
       "        vertical-align: top;\n",
       "    }\n",
       "\n",
       "    .dataframe thead th {\n",
       "        text-align: right;\n",
       "    }\n",
       "</style>\n",
       "<table border=\"1\" class=\"dataframe\">\n",
       "  <thead>\n",
       "    <tr style=\"text-align: right;\">\n",
       "      <th></th>\n",
       "      <th>from_customer</th>\n",
       "      <th>to_customer</th>\n",
       "      <th>amount</th>\n",
       "      <th>timestamp</th>\n",
       "    </tr>\n",
       "  </thead>\n",
       "  <tbody>\n",
       "    <tr>\n",
       "      <th>0</th>\n",
       "      <td>FRM-463190</td>\n",
       "      <td>TO-434585</td>\n",
       "      <td>3996.72</td>\n",
       "      <td>2022-09-15 17:23:22</td>\n",
       "    </tr>\n",
       "    <tr>\n",
       "      <th>1</th>\n",
       "      <td>FRM-175348</td>\n",
       "      <td>TO-526414</td>\n",
       "      <td>3416.57</td>\n",
       "      <td>2022-10-12 02:15:01</td>\n",
       "    </tr>\n",
       "    <tr>\n",
       "      <th>2</th>\n",
       "      <td>FRM-362506</td>\n",
       "      <td>TO-453609</td>\n",
       "      <td>8797.20</td>\n",
       "      <td>2022-09-29 07:05:03</td>\n",
       "    </tr>\n",
       "    <tr>\n",
       "      <th>3</th>\n",
       "      <td>FRM-357098</td>\n",
       "      <td>TO-367255</td>\n",
       "      <td>4564.47</td>\n",
       "      <td>2022-09-23 06:27:02</td>\n",
       "    </tr>\n",
       "    <tr>\n",
       "      <th>4</th>\n",
       "      <td>FRM-782273</td>\n",
       "      <td>TO-858955</td>\n",
       "      <td>330.53</td>\n",
       "      <td>2022-09-16 12:49:18</td>\n",
       "    </tr>\n",
       "  </tbody>\n",
       "</table>\n",
       "</div>"
      ],
      "text/plain": [
       "  from_customer to_customer   amount           timestamp\n",
       "0    FRM-463190   TO-434585  3996.72 2022-09-15 17:23:22\n",
       "1    FRM-175348   TO-526414  3416.57 2022-10-12 02:15:01\n",
       "2    FRM-362506   TO-453609  8797.20 2022-09-29 07:05:03\n",
       "3    FRM-357098   TO-367255  4564.47 2022-09-23 06:27:02\n",
       "4    FRM-782273   TO-858955   330.53 2022-09-16 12:49:18"
      ]
     },
     "execution_count": 13,
     "metadata": {},
     "output_type": "execute_result"
    }
   ],
   "source": [
    "random_relationship(giver_list)\n",
    "df.head()"
   ]
  },
  {
   "cell_type": "code",
   "execution_count": 14,
   "metadata": {},
   "outputs": [
    {
     "name": "stdout",
     "output_type": "stream",
     "text": [
      "from_customer\n",
      "FRM-003144    1\n",
      "FRM-004529    1\n",
      "FRM-006202    1\n",
      "FRM-006688    1\n",
      "FRM-007852    1\n",
      "             ..\n",
      "FRM-994468    1\n",
      "FRM-995263    1\n",
      "FRM-996530    1\n",
      "FRM-997478    1\n",
      "FRM-997614    1\n",
      "Length: 984, dtype: int64\n"
     ]
    }
   ],
   "source": [
    "#Get the duplicateds\n",
    "dups_color = df.copy.pivot_table(columns=['from_customer'], aggfunc='size')\n",
    "print(dups_color)"
   ]
  }
 ],
 "metadata": {
  "kernelspec": {
   "display_name": "Python 3.10.6 ('env': venv)",
   "language": "python",
   "name": "python3"
  },
  "language_info": {
   "codemirror_mode": {
    "name": "ipython",
    "version": 3
   },
   "file_extension": ".py",
   "mimetype": "text/x-python",
   "name": "python",
   "nbconvert_exporter": "python",
   "pygments_lexer": "ipython3",
   "version": "3.10.6"
  },
  "orig_nbformat": 4,
  "vscode": {
   "interpreter": {
    "hash": "874a6de952d544f4cb877a8d13eabeae5b2291f673584fafdaac9408f5f0cba8"
   }
  }
 },
 "nbformat": 4,
 "nbformat_minor": 2
}
