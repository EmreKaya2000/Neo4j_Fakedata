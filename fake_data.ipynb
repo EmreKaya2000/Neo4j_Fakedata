{
 "cells": [
  {
   "cell_type": "code",
   "execution_count": 1,
   "metadata": {},
   "outputs": [],
   "source": [
    "import pandas as pd\n",
    "import numpy as np\n",
    "from faker import Faker\n",
    "from collections import defaultdict\n",
    "from sqlalchemy import create_engine\n",
    "import datetime\n",
    "import random\n",
    "import re\n"
   ]
  },
  {
   "cell_type": "code",
   "execution_count": 2,
   "metadata": {},
   "outputs": [],
   "source": [
    "from numpy import integer\n",
    "\n",
    "\n",
    "fake=Faker()\n",
    "\n",
    "fake_data = defaultdict(list)\n",
    "\n",
    "row_number=int(input(\"Please write the number you wish to see the row size, DON'T CRASH ME!\"))\n",
    "\n"
   ]
  },
  {
   "cell_type": "markdown",
   "metadata": {},
   "source": [
    "#Functions"
   ]
  },
  {
   "cell_type": "markdown",
   "metadata": {},
   "source": [
    "#Fake data is generated."
   ]
  },
  {
   "cell_type": "code",
   "execution_count": 3,
   "metadata": {},
   "outputs": [],
   "source": [
    "\n",
    "for i in range(row_number):\n",
    "    fake_data['from_customer'].append(fake.bothify(text='FRM-######'))\n",
    "    fake_data['amount'].append(fake.pyfloat(right_digits=2,positive=True,min_value=2.00,max_value=10000.00))\n",
    "    fake_data['timestamp'].append(fake.date_time_ad(start_datetime=datetime.datetime(2022,9,14)))\n",
    "    "
   ]
  },
  {
   "cell_type": "code",
   "execution_count": 4,
   "metadata": {},
   "outputs": [],
   "source": [
    "#To_customer feauture\n",
    "templist=[]\n",
    "#check the key value from list_converted defaultdict\n",
    "for k,v in list(fake_data.items()):\n",
    "    if k=='from_customer':\n",
    "        #Change FRM tag to TO tag\n",
    "        for item in v:\n",
    "                splited_item=item.split('-')\n",
    "                splited_item[0]='TO'\n",
    "                concat_item='-'.join(splited_item)\n",
    "                templist.append(concat_item)#item\n",
    "#To_customer yapısında yer değişikliği random\n",
    "random.shuffle(templist)\n",
    "fake_data['to_customer']=templist"
   ]
  },
  {
   "cell_type": "code",
   "execution_count": 5,
   "metadata": {},
   "outputs": [],
   "source": [
    "df=pd.DataFrame(fake_data)\n",
    "df=df[['from_customer','to_customer','amount','timestamp']]\n",
    "#dropped_df=df.drop(['amount','timestamp'], axis=1)"
   ]
  },
  {
   "cell_type": "code",
   "execution_count": null,
   "metadata": {},
   "outputs": [],
   "source": []
  },
  {
   "cell_type": "code",
   "execution_count": 6,
   "metadata": {},
   "outputs": [
    {
     "name": "stdout",
     "output_type": "stream",
     "text": [
      "20\n"
     ]
    },
    {
     "data": {
      "text/plain": [
       "20    FRM-003911\n",
       "7     FRM-644680\n",
       "69    FRM-282353\n",
       "47    FRM-921101\n",
       "15    FRM-237178\n",
       "86    FRM-534210\n",
       "83    FRM-274688\n",
       "23    FRM-936245\n",
       "80    FRM-689732\n",
       "70    FRM-346642\n",
       "32    FRM-628315\n",
       "51    FRM-971440\n",
       "76    FRM-249210\n",
       "34    FRM-342542\n",
       "5     FRM-387614\n",
       "33    FRM-550697\n",
       "11    FRM-627673\n",
       "43    FRM-886913\n",
       "53    FRM-687454\n",
       "9     FRM-780855\n",
       "Name: from_customer, dtype: object"
      ]
     },
     "execution_count": 6,
     "metadata": {},
     "output_type": "execute_result"
    }
   ],
   "source": [
    "df_m = df.sample(random.randint(row_number//10,int(row_number/5)))\n",
    "print(len(df_m))\n",
    "df_m.loc[:,'from_customer']\n"
   ]
  },
  {
   "cell_type": "code",
   "execution_count": 7,
   "metadata": {},
   "outputs": [],
   "source": [
    "try:\n",
    "    equal=any(df_m['from_customer'].str.extract('(\\d+)')==df_m['to_customer'].str.extract('(\\d+)'))\n",
    "except:\n",
    "    print(\"Same value error, please check your rows that may be have a same value\")"
   ]
  },
  {
   "cell_type": "code",
   "execution_count": 8,
   "metadata": {},
   "outputs": [
    {
     "data": {
      "text/html": [
       "<div>\n",
       "<style scoped>\n",
       "    .dataframe tbody tr th:only-of-type {\n",
       "        vertical-align: middle;\n",
       "    }\n",
       "\n",
       "    .dataframe tbody tr th {\n",
       "        vertical-align: top;\n",
       "    }\n",
       "\n",
       "    .dataframe thead th {\n",
       "        text-align: right;\n",
       "    }\n",
       "</style>\n",
       "<table border=\"1\" class=\"dataframe\">\n",
       "  <thead>\n",
       "    <tr style=\"text-align: right;\">\n",
       "      <th></th>\n",
       "      <th>from_customer</th>\n",
       "      <th>to_customer</th>\n",
       "      <th>amount</th>\n",
       "      <th>timestamp</th>\n",
       "    </tr>\n",
       "  </thead>\n",
       "  <tbody>\n",
       "    <tr>\n",
       "      <th>20</th>\n",
       "      <td>FRM-003911</td>\n",
       "      <td>TO-849575</td>\n",
       "      <td>9422.34</td>\n",
       "      <td>2022-09-14 01:28:08</td>\n",
       "    </tr>\n",
       "    <tr>\n",
       "      <th>7</th>\n",
       "      <td>FRM-644680</td>\n",
       "      <td>TO-652528</td>\n",
       "      <td>5216.82</td>\n",
       "      <td>2022-09-25 09:52:49</td>\n",
       "    </tr>\n",
       "    <tr>\n",
       "      <th>69</th>\n",
       "      <td>FRM-282353</td>\n",
       "      <td>TO-458055</td>\n",
       "      <td>8863.99</td>\n",
       "      <td>2022-09-21 17:51:12</td>\n",
       "    </tr>\n",
       "    <tr>\n",
       "      <th>47</th>\n",
       "      <td>FRM-921101</td>\n",
       "      <td>TO-151692</td>\n",
       "      <td>4642.60</td>\n",
       "      <td>2022-09-28 06:34:54</td>\n",
       "    </tr>\n",
       "    <tr>\n",
       "      <th>15</th>\n",
       "      <td>FRM-237178</td>\n",
       "      <td>TO-288631</td>\n",
       "      <td>9612.10</td>\n",
       "      <td>2022-10-08 08:19:36</td>\n",
       "    </tr>\n",
       "  </tbody>\n",
       "</table>\n",
       "</div>"
      ],
      "text/plain": [
       "   from_customer to_customer   amount           timestamp\n",
       "20    FRM-003911   TO-849575  9422.34 2022-09-14 01:28:08\n",
       "7     FRM-644680   TO-652528  5216.82 2022-09-25 09:52:49\n",
       "69    FRM-282353   TO-458055  8863.99 2022-09-21 17:51:12\n",
       "47    FRM-921101   TO-151692  4642.60 2022-09-28 06:34:54\n",
       "15    FRM-237178   TO-288631  9612.10 2022-10-08 08:19:36"
      ]
     },
     "execution_count": 8,
     "metadata": {},
     "output_type": "execute_result"
    }
   ],
   "source": [
    "#type(df_manipulation['from_customer'].str.extract('(\\d+)')==df_manipulation['to_customer'].str.extract('(\\d+)'))\n",
    "df_m.head()"
   ]
  },
  {
   "cell_type": "code",
   "execution_count": 9,
   "metadata": {},
   "outputs": [
    {
     "data": {
      "text/html": [
       "<div>\n",
       "<style scoped>\n",
       "    .dataframe tbody tr th:only-of-type {\n",
       "        vertical-align: middle;\n",
       "    }\n",
       "\n",
       "    .dataframe tbody tr th {\n",
       "        vertical-align: top;\n",
       "    }\n",
       "\n",
       "    .dataframe thead th {\n",
       "        text-align: right;\n",
       "    }\n",
       "</style>\n",
       "<table border=\"1\" class=\"dataframe\">\n",
       "  <thead>\n",
       "    <tr style=\"text-align: right;\">\n",
       "      <th></th>\n",
       "      <th>from_customer</th>\n",
       "      <th>to_customer</th>\n",
       "      <th>amount</th>\n",
       "      <th>timestamp</th>\n",
       "    </tr>\n",
       "  </thead>\n",
       "  <tbody>\n",
       "    <tr>\n",
       "      <th>0</th>\n",
       "      <td>FRM-652528</td>\n",
       "      <td>TO-069839</td>\n",
       "      <td>2186.48</td>\n",
       "      <td>2022-10-09 13:53:52</td>\n",
       "    </tr>\n",
       "    <tr>\n",
       "      <th>1</th>\n",
       "      <td>FRM-904820</td>\n",
       "      <td>TO-627673</td>\n",
       "      <td>3681.33</td>\n",
       "      <td>2022-09-30 20:43:11</td>\n",
       "    </tr>\n",
       "    <tr>\n",
       "      <th>2</th>\n",
       "      <td>FRM-917298</td>\n",
       "      <td>TO-689732</td>\n",
       "      <td>1530.33</td>\n",
       "      <td>2022-09-18 04:26:37</td>\n",
       "    </tr>\n",
       "    <tr>\n",
       "      <th>3</th>\n",
       "      <td>FRM-113212</td>\n",
       "      <td>TO-366276</td>\n",
       "      <td>3994.97</td>\n",
       "      <td>2022-09-15 23:59:13</td>\n",
       "    </tr>\n",
       "    <tr>\n",
       "      <th>4</th>\n",
       "      <td>FRM-843711</td>\n",
       "      <td>TO-057507</td>\n",
       "      <td>7337.49</td>\n",
       "      <td>2022-09-26 12:33:28</td>\n",
       "    </tr>\n",
       "  </tbody>\n",
       "</table>\n",
       "</div>"
      ],
      "text/plain": [
       "  from_customer to_customer   amount           timestamp\n",
       "0    FRM-652528   TO-069839  2186.48 2022-10-09 13:53:52\n",
       "1    FRM-904820   TO-627673  3681.33 2022-09-30 20:43:11\n",
       "2    FRM-917298   TO-689732  1530.33 2022-09-18 04:26:37\n",
       "3    FRM-113212   TO-366276  3994.97 2022-09-15 23:59:13\n",
       "4    FRM-843711   TO-057507  7337.49 2022-09-26 12:33:28"
      ]
     },
     "execution_count": 9,
     "metadata": {},
     "output_type": "execute_result"
    }
   ],
   "source": [
    "#GET INDEX NUMBER:\n",
    "    #df_manipulation[df['from_customer']=='FRM-757739'].index.item() \n",
    "#Seperate the numbers:\n",
    "    #df_manipulation['from_customer'].str.extract('(\\d+)'))\n",
    "    #df_manipulation['to_customer'].str.extract('(\\d+)'))\n",
    "df.head()"
   ]
  },
  {
   "cell_type": "code",
   "execution_count": 10,
   "metadata": {},
   "outputs": [],
   "source": [
    "from_or_to={'from_customer':'from_customer',\n",
    "                    'to_customer':'to_customer'}\n",
    "for i in range(len(from_or_to)):\n",
    "            list(from_or_to.keys())[i]=df[list(from_or_to.keys())[i]].to_list()\n",
    "            "
   ]
  },
  {
   "cell_type": "code",
   "execution_count": 11,
   "metadata": {},
   "outputs": [
    {
     "data": {
      "text/plain": [
       "20"
      ]
     },
     "execution_count": 11,
     "metadata": {},
     "output_type": "execute_result"
    }
   ],
   "source": [
    "len(df_m)"
   ]
  },
  {
   "cell_type": "code",
   "execution_count": 12,
   "metadata": {},
   "outputs": [],
   "source": [
    "def pick_random_elements(dataFrame):\n",
    "        from_or_to=['from_customer','to_customer']\n",
    "        for _ in range(len(dataFrame)):\n",
    "                randomized_customer=dataFrame[random.choice(from_or_to)].iat[random.randint(1,len(dataFrame)-1)]\n",
    "                tweaked_customer_list.append(randomized_customer)\n",
    "                #If list is not unique start from beginning\n",
    "                if not np.unique(tweaked_customer_list).size == len(tweaked_customer_list):\n",
    "                        tweaked_customer_list.clear()\n",
    "def splitString(str):\n",
    "    alpha = \"\"\n",
    "    num = \"\"\n",
    "    special = \"\"\n",
    "    for i in range(len(str)):\n",
    "        if (str[i].isdigit()):\n",
    "            num = num+ str[i]\n",
    "        elif((str[i] >= 'A' and str[i] <= 'Z') or\n",
    "             (str[i] >= 'a' and str[i] <= 'z')):\n",
    "            alpha += str[i]\n",
    "        else:\n",
    "            special += str[i]\n",
    " \n",
    "    return(num)\n",
    "\n",
    "def sum_of_numbers(number):\n",
    "    if number>9:\n",
    "        ones=number%10\n",
    "        tens=(number-ones)/10\n",
    "        number=ones+tens\n",
    "    return number\n",
    "\n",
    "def split_elements(customer_list):\n",
    "    for customer in customer_list:\n",
    "        if len(customer.split('-')[0])<=2:\n",
    "            receiver_list.append(customer)\n",
    "        else:\n",
    "            giver_list.append(customer)\n",
    "\n",
    "receiver_list=[]\n",
    "giver_list=[]\n",
    "tweaked_customer_list=[]\n",
    "   "
   ]
  },
  {
   "cell_type": "code",
   "execution_count": 13,
   "metadata": {},
   "outputs": [
    {
     "name": "stdout",
     "output_type": "stream",
     "text": [
      "['TO-594334', 'TO-687454', 'FRM-282353', 'TO-274688', 'TO-652528', 'TO-520651', 'TO-451974', 'TO-992466']\n"
     ]
    }
   ],
   "source": [
    "pick_random_elements(df_m)\n",
    "print(tweaked_customer_list)\n",
    "split_elements(tweaked_customer_list)"
   ]
  },
  {
   "cell_type": "code",
   "execution_count": 14,
   "metadata": {},
   "outputs": [],
   "source": [
    "def random_relationship(from_list,to_list):\n",
    "    base_number= len(from_list)\n",
    "    for element in from_list:\n",
    "        if splitString(element) in to_list:\n",
    "            pass"
   ]
  },
  {
   "cell_type": "code",
   "execution_count": 15,
   "metadata": {},
   "outputs": [
    {
     "data": {
      "text/plain": [
       "['TO-594334',\n",
       " 'TO-687454',\n",
       " 'TO-274688',\n",
       " 'TO-652528',\n",
       " 'TO-520651',\n",
       " 'TO-451974',\n",
       " 'TO-992466']"
      ]
     },
     "execution_count": 15,
     "metadata": {},
     "output_type": "execute_result"
    }
   ],
   "source": [
    "receiver_list"
   ]
  },
  {
   "cell_type": "code",
   "execution_count": 16,
   "metadata": {},
   "outputs": [
    {
     "data": {
      "text/plain": [
       "['FRM-282353']"
      ]
     },
     "execution_count": 16,
     "metadata": {},
     "output_type": "execute_result"
    }
   ],
   "source": [
    "giver_list"
   ]
  },
  {
   "cell_type": "code",
   "execution_count": 18,
   "metadata": {},
   "outputs": [
    {
     "ename": "TypeError",
     "evalue": "object of type 'int' has no len()",
     "output_type": "error",
     "traceback": [
      "\u001b[0;31m---------------------------------------------------------------------------\u001b[0m",
      "\u001b[0;31mTypeError\u001b[0m                                 Traceback (most recent call last)",
      "Cell \u001b[0;32mIn [18], line 1\u001b[0m\n\u001b[0;32m----> 1\u001b[0m sum_of_numbers(\u001b[39m11\u001b[39;49m)\n",
      "Cell \u001b[0;32mIn [12], line 26\u001b[0m, in \u001b[0;36msum_of_numbers\u001b[0;34m(number)\u001b[0m\n\u001b[1;32m     24\u001b[0m \u001b[39mdef\u001b[39;00m \u001b[39msum_of_numbers\u001b[39m(number):\n\u001b[1;32m     25\u001b[0m     \u001b[39mif\u001b[39;00m number\u001b[39m>\u001b[39m\u001b[39m9\u001b[39m:\n\u001b[0;32m---> 26\u001b[0m         ones\u001b[39m=\u001b[39m\u001b[39mlen\u001b[39;49m(number)\u001b[39m%\u001b[39m\u001b[39m10\u001b[39m\n\u001b[1;32m     27\u001b[0m         tens\u001b[39m=\u001b[39m(\u001b[39mlen\u001b[39m(number)\u001b[39m-\u001b[39mones)\u001b[39m/\u001b[39m\u001b[39m10\u001b[39m\n\u001b[1;32m     28\u001b[0m         number\u001b[39m=\u001b[39mones\u001b[39m+\u001b[39mtens\n",
      "\u001b[0;31mTypeError\u001b[0m: object of type 'int' has no len()"
     ]
    }
   ],
   "source": [
    "\n",
    "sum_of_numbers(11)"
   ]
  }
 ],
 "metadata": {
  "kernelspec": {
   "display_name": "Python 3.10.6 ('env': venv)",
   "language": "python",
   "name": "python3"
  },
  "language_info": {
   "codemirror_mode": {
    "name": "ipython",
    "version": 3
   },
   "file_extension": ".py",
   "mimetype": "text/x-python",
   "name": "python",
   "nbconvert_exporter": "python",
   "pygments_lexer": "ipython3",
   "version": "3.10.6"
  },
  "orig_nbformat": 4,
  "vscode": {
   "interpreter": {
    "hash": "874a6de952d544f4cb877a8d13eabeae5b2291f673584fafdaac9408f5f0cba8"
   }
  }
 },
 "nbformat": 4,
 "nbformat_minor": 2
}
